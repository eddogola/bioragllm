{
 "cells": [
  {
   "cell_type": "code",
   "execution_count": 34,
   "metadata": {},
   "outputs": [
    {
     "name": "stdout",
     "output_type": "stream",
     "text": [
      "Requirement already satisfied: llama-index in /Users/ogola/tinyml/project/ollama2/.venv/lib/python3.11/site-packages (0.9.14.post1)\n",
      "Requirement already satisfied: transformers in /Users/ogola/tinyml/project/ollama2/.venv/lib/python3.11/site-packages (4.36.0)\n",
      "Requirement already satisfied: torch in /Users/ogola/tinyml/project/ollama2/.venv/lib/python3.11/site-packages (2.1.1)\n",
      "Requirement already satisfied: SQLAlchemy>=1.4.49 in /Users/ogola/tinyml/project/ollama2/.venv/lib/python3.11/site-packages (from SQLAlchemy[asyncio]>=1.4.49->llama-index) (2.0.23)\n",
      "Requirement already satisfied: aiohttp<4.0.0,>=3.8.6 in /Users/ogola/tinyml/project/ollama2/.venv/lib/python3.11/site-packages (from llama-index) (3.9.1)\n",
      "Requirement already satisfied: beautifulsoup4<5.0.0,>=4.12.2 in /Users/ogola/tinyml/project/ollama2/.venv/lib/python3.11/site-packages (from llama-index) (4.12.2)\n",
      "Requirement already satisfied: dataclasses-json in /Users/ogola/tinyml/project/ollama2/.venv/lib/python3.11/site-packages (from llama-index) (0.6.3)\n",
      "Requirement already satisfied: deprecated>=1.2.9.3 in /Users/ogola/tinyml/project/ollama2/.venv/lib/python3.11/site-packages (from llama-index) (1.2.14)\n",
      "Requirement already satisfied: fsspec>=2023.5.0 in /Users/ogola/tinyml/project/ollama2/.venv/lib/python3.11/site-packages (from llama-index) (2023.12.2)\n",
      "Requirement already satisfied: httpx in /Users/ogola/tinyml/project/ollama2/.venv/lib/python3.11/site-packages (from llama-index) (0.25.2)\n",
      "Requirement already satisfied: nest-asyncio<2.0.0,>=1.5.8 in /Users/ogola/tinyml/project/ollama2/.venv/lib/python3.11/site-packages (from llama-index) (1.5.8)\n",
      "Requirement already satisfied: nltk<4.0.0,>=3.8.1 in /Users/ogola/tinyml/project/ollama2/.venv/lib/python3.11/site-packages (from llama-index) (3.8.1)\n",
      "Requirement already satisfied: numpy in /Users/ogola/tinyml/project/ollama2/.venv/lib/python3.11/site-packages (from llama-index) (1.26.2)\n",
      "Requirement already satisfied: openai>=1.1.0 in /Users/ogola/tinyml/project/ollama2/.venv/lib/python3.11/site-packages (from llama-index) (1.3.8)\n",
      "Requirement already satisfied: pandas in /Users/ogola/tinyml/project/ollama2/.venv/lib/python3.11/site-packages (from llama-index) (2.1.4)\n",
      "Requirement already satisfied: requests>=2.31.0 in /Users/ogola/tinyml/project/ollama2/.venv/lib/python3.11/site-packages (from llama-index) (2.31.0)\n",
      "Requirement already satisfied: tenacity<9.0.0,>=8.2.0 in /Users/ogola/tinyml/project/ollama2/.venv/lib/python3.11/site-packages (from llama-index) (8.2.3)\n",
      "Requirement already satisfied: tiktoken>=0.3.3 in /Users/ogola/tinyml/project/ollama2/.venv/lib/python3.11/site-packages (from llama-index) (0.5.2)\n",
      "Requirement already satisfied: typing-extensions>=4.5.0 in /Users/ogola/tinyml/project/ollama2/.venv/lib/python3.11/site-packages (from llama-index) (4.9.0)\n",
      "Requirement already satisfied: typing-inspect>=0.8.0 in /Users/ogola/tinyml/project/ollama2/.venv/lib/python3.11/site-packages (from llama-index) (0.9.0)\n",
      "Requirement already satisfied: filelock in /Users/ogola/tinyml/project/ollama2/.venv/lib/python3.11/site-packages (from transformers) (3.13.1)\n",
      "Requirement already satisfied: huggingface-hub<1.0,>=0.19.3 in /Users/ogola/tinyml/project/ollama2/.venv/lib/python3.11/site-packages (from transformers) (0.19.4)\n",
      "Requirement already satisfied: packaging>=20.0 in /Users/ogola/tinyml/project/ollama2/.venv/lib/python3.11/site-packages (from transformers) (23.2)\n",
      "Requirement already satisfied: pyyaml>=5.1 in /Users/ogola/tinyml/project/ollama2/.venv/lib/python3.11/site-packages (from transformers) (6.0.1)\n",
      "Requirement already satisfied: regex!=2019.12.17 in /Users/ogola/tinyml/project/ollama2/.venv/lib/python3.11/site-packages (from transformers) (2023.10.3)\n",
      "Requirement already satisfied: tokenizers<0.19,>=0.14 in /Users/ogola/tinyml/project/ollama2/.venv/lib/python3.11/site-packages (from transformers) (0.15.0)\n",
      "Requirement already satisfied: safetensors>=0.3.1 in /Users/ogola/tinyml/project/ollama2/.venv/lib/python3.11/site-packages (from transformers) (0.4.1)\n",
      "Requirement already satisfied: tqdm>=4.27 in /Users/ogola/tinyml/project/ollama2/.venv/lib/python3.11/site-packages (from transformers) (4.66.1)\n",
      "Requirement already satisfied: sympy in /Users/ogola/tinyml/project/ollama2/.venv/lib/python3.11/site-packages (from torch) (1.12)\n",
      "Requirement already satisfied: networkx in /Users/ogola/tinyml/project/ollama2/.venv/lib/python3.11/site-packages (from torch) (3.2.1)\n",
      "Requirement already satisfied: jinja2 in /Users/ogola/tinyml/project/ollama2/.venv/lib/python3.11/site-packages (from torch) (3.1.2)\n",
      "Requirement already satisfied: attrs>=17.3.0 in /Users/ogola/tinyml/project/ollama2/.venv/lib/python3.11/site-packages (from aiohttp<4.0.0,>=3.8.6->llama-index) (23.1.0)\n",
      "Requirement already satisfied: multidict<7.0,>=4.5 in /Users/ogola/tinyml/project/ollama2/.venv/lib/python3.11/site-packages (from aiohttp<4.0.0,>=3.8.6->llama-index) (6.0.4)\n",
      "Requirement already satisfied: yarl<2.0,>=1.0 in /Users/ogola/tinyml/project/ollama2/.venv/lib/python3.11/site-packages (from aiohttp<4.0.0,>=3.8.6->llama-index) (1.9.4)\n",
      "Requirement already satisfied: frozenlist>=1.1.1 in /Users/ogola/tinyml/project/ollama2/.venv/lib/python3.11/site-packages (from aiohttp<4.0.0,>=3.8.6->llama-index) (1.4.0)\n",
      "Requirement already satisfied: aiosignal>=1.1.2 in /Users/ogola/tinyml/project/ollama2/.venv/lib/python3.11/site-packages (from aiohttp<4.0.0,>=3.8.6->llama-index) (1.3.1)\n",
      "Requirement already satisfied: soupsieve>1.2 in /Users/ogola/tinyml/project/ollama2/.venv/lib/python3.11/site-packages (from beautifulsoup4<5.0.0,>=4.12.2->llama-index) (2.5)\n",
      "Requirement already satisfied: wrapt<2,>=1.10 in /Users/ogola/tinyml/project/ollama2/.venv/lib/python3.11/site-packages (from deprecated>=1.2.9.3->llama-index) (1.16.0)\n",
      "Requirement already satisfied: click in /Users/ogola/tinyml/project/ollama2/.venv/lib/python3.11/site-packages (from nltk<4.0.0,>=3.8.1->llama-index) (8.1.7)\n",
      "Requirement already satisfied: joblib in /Users/ogola/tinyml/project/ollama2/.venv/lib/python3.11/site-packages (from nltk<4.0.0,>=3.8.1->llama-index) (1.3.2)\n",
      "Requirement already satisfied: anyio<5,>=3.5.0 in /Users/ogola/tinyml/project/ollama2/.venv/lib/python3.11/site-packages (from openai>=1.1.0->llama-index) (4.1.0)\n",
      "Requirement already satisfied: distro<2,>=1.7.0 in /Users/ogola/tinyml/project/ollama2/.venv/lib/python3.11/site-packages (from openai>=1.1.0->llama-index) (1.8.0)\n",
      "Requirement already satisfied: pydantic<3,>=1.9.0 in /Users/ogola/tinyml/project/ollama2/.venv/lib/python3.11/site-packages (from openai>=1.1.0->llama-index) (2.5.2)\n",
      "Requirement already satisfied: sniffio in /Users/ogola/tinyml/project/ollama2/.venv/lib/python3.11/site-packages (from openai>=1.1.0->llama-index) (1.3.0)\n",
      "Requirement already satisfied: certifi in /Users/ogola/tinyml/project/ollama2/.venv/lib/python3.11/site-packages (from httpx->llama-index) (2023.11.17)\n",
      "Requirement already satisfied: httpcore==1.* in /Users/ogola/tinyml/project/ollama2/.venv/lib/python3.11/site-packages (from httpx->llama-index) (1.0.2)\n",
      "Requirement already satisfied: idna in /Users/ogola/tinyml/project/ollama2/.venv/lib/python3.11/site-packages (from httpx->llama-index) (3.6)\n",
      "Requirement already satisfied: h11<0.15,>=0.13 in /Users/ogola/tinyml/project/ollama2/.venv/lib/python3.11/site-packages (from httpcore==1.*->httpx->llama-index) (0.14.0)\n",
      "Requirement already satisfied: charset-normalizer<4,>=2 in /Users/ogola/tinyml/project/ollama2/.venv/lib/python3.11/site-packages (from requests>=2.31.0->llama-index) (3.3.2)\n",
      "Requirement already satisfied: urllib3<3,>=1.21.1 in /Users/ogola/tinyml/project/ollama2/.venv/lib/python3.11/site-packages (from requests>=2.31.0->llama-index) (2.1.0)\n",
      "Requirement already satisfied: greenlet!=0.4.17 in /Users/ogola/tinyml/project/ollama2/.venv/lib/python3.11/site-packages (from SQLAlchemy[asyncio]>=1.4.49->llama-index) (3.0.2)\n",
      "Requirement already satisfied: mypy-extensions>=0.3.0 in /Users/ogola/tinyml/project/ollama2/.venv/lib/python3.11/site-packages (from typing-inspect>=0.8.0->llama-index) (1.0.0)\n",
      "Requirement already satisfied: marshmallow<4.0.0,>=3.18.0 in /Users/ogola/tinyml/project/ollama2/.venv/lib/python3.11/site-packages (from dataclasses-json->llama-index) (3.20.1)\n",
      "Requirement already satisfied: MarkupSafe>=2.0 in /Users/ogola/tinyml/project/ollama2/.venv/lib/python3.11/site-packages (from jinja2->torch) (2.1.3)\n",
      "Requirement already satisfied: python-dateutil>=2.8.2 in /Users/ogola/tinyml/project/ollama2/.venv/lib/python3.11/site-packages (from pandas->llama-index) (2.8.2)\n",
      "Requirement already satisfied: pytz>=2020.1 in /Users/ogola/tinyml/project/ollama2/.venv/lib/python3.11/site-packages (from pandas->llama-index) (2023.3.post1)\n",
      "Requirement already satisfied: tzdata>=2022.1 in /Users/ogola/tinyml/project/ollama2/.venv/lib/python3.11/site-packages (from pandas->llama-index) (2023.3)\n",
      "Requirement already satisfied: mpmath>=0.19 in /Users/ogola/tinyml/project/ollama2/.venv/lib/python3.11/site-packages (from sympy->torch) (1.3.0)\n",
      "Requirement already satisfied: annotated-types>=0.4.0 in /Users/ogola/tinyml/project/ollama2/.venv/lib/python3.11/site-packages (from pydantic<3,>=1.9.0->openai>=1.1.0->llama-index) (0.6.0)\n",
      "Requirement already satisfied: pydantic-core==2.14.5 in /Users/ogola/tinyml/project/ollama2/.venv/lib/python3.11/site-packages (from pydantic<3,>=1.9.0->openai>=1.1.0->llama-index) (2.14.5)\n",
      "Requirement already satisfied: six>=1.5 in /Users/ogola/tinyml/project/ollama2/.venv/lib/python3.11/site-packages (from python-dateutil>=2.8.2->pandas->llama-index) (1.16.0)\n",
      "Note: you may need to restart the kernel to use updated packages.\n"
     ]
    }
   ],
   "source": [
    "%pip install llama-index transformers torch"
   ]
  },
  {
   "cell_type": "code",
   "execution_count": 35,
   "metadata": {},
   "outputs": [],
   "source": [
    "from llama_index.embeddings import HuggingFaceEmbedding\n",
    "\n",
    "# loads BAAI/bge-small-en-v1.5\n",
    "embed_model = HuggingFaceEmbedding(model_name=\"BAAI/bge-small-en-v1.5\")"
   ]
  },
  {
   "cell_type": "code",
   "execution_count": 36,
   "metadata": {},
   "outputs": [],
   "source": [
    "from llama_index.llms import Ollama\n",
    "from llama_index import SimpleDirectoryReader, ServiceContext, KeywordTableIndex"
   ]
  },
  {
   "cell_type": "code",
   "execution_count": 1,
   "metadata": {},
   "outputs": [
    {
     "ename": "NameError",
     "evalue": "name 'Ollama' is not defined",
     "output_type": "error",
     "traceback": [
      "\u001b[0;31m---------------------------------------------------------------------------\u001b[0m",
      "\u001b[0;31mNameError\u001b[0m                                 Traceback (most recent call last)",
      "\u001b[1;32m/Users/ogola/tinyml/project/ollama2/ps4/mistral copy 3.ipynb Cell 4\u001b[0m line \u001b[0;36m1\n\u001b[0;32m----> <a href='vscode-notebook-cell:/Users/ogola/tinyml/project/ollama2/ps4/mistral%20copy%203.ipynb#W3sZmlsZQ%3D%3D?line=0'>1</a>\u001b[0m llm \u001b[39m=\u001b[39m Ollama(model\u001b[39m=\u001b[39m\u001b[39m\"\u001b[39m\u001b[39mvicuna\u001b[39m\u001b[39m\"\u001b[39m, temperature\u001b[39m=\u001b[39m\u001b[39m0\u001b[39m)\n",
      "\u001b[0;31mNameError\u001b[0m: name 'Ollama' is not defined"
     ]
    }
   ],
   "source": [
    "llm = Ollama(model=\"llama2\", temperature=0)"
   ]
  },
  {
   "cell_type": "code",
   "execution_count": 38,
   "metadata": {},
   "outputs": [],
   "source": [
    "docs = SimpleDirectoryReader(\"data\").load_data()"
   ]
  },
  {
   "cell_type": "code",
   "execution_count": 39,
   "metadata": {},
   "outputs": [],
   "source": [
    "service_cxt = ServiceContext.from_defaults(llm=llm, embed_model=embed_model,\n",
    "                                           chunk_size=512)"
   ]
  },
  {
   "cell_type": "code",
   "execution_count": 40,
   "metadata": {},
   "outputs": [],
   "source": [
    "index = KeywordTableIndex.from_documents(docs, service_context=service_cxt)"
   ]
  },
  {
   "cell_type": "code",
   "execution_count": 41,
   "metadata": {},
   "outputs": [],
   "source": [
    "query_engine = index.as_query_engine()"
   ]
  },
  {
   "cell_type": "code",
   "execution_count": 42,
   "metadata": {},
   "outputs": [],
   "source": [
    "# response = query_engine.query(\"summarize in a sentence the contribution of streaming llm\")"
   ]
  },
  {
   "cell_type": "code",
   "execution_count": 43,
   "metadata": {},
   "outputs": [],
   "source": [
    "# print(response)"
   ]
  },
  {
   "cell_type": "code",
   "execution_count": 44,
   "metadata": {},
   "outputs": [],
   "source": [
    "import pandas as pd"
   ]
  },
  {
   "cell_type": "code",
   "execution_count": 45,
   "metadata": {},
   "outputs": [],
   "source": [
    "df = pd.read_csv(\"qna.csv\")"
   ]
  },
  {
   "cell_type": "code",
   "execution_count": 46,
   "metadata": {},
   "outputs": [
    {
     "data": {
      "text/html": [
       "<div>\n",
       "<style scoped>\n",
       "    .dataframe tbody tr th:only-of-type {\n",
       "        vertical-align: middle;\n",
       "    }\n",
       "\n",
       "    .dataframe tbody tr th {\n",
       "        vertical-align: top;\n",
       "    }\n",
       "\n",
       "    .dataframe thead th {\n",
       "        text-align: right;\n",
       "    }\n",
       "</style>\n",
       "<table border=\"1\" class=\"dataframe\">\n",
       "  <thead>\n",
       "    <tr style=\"text-align: right;\">\n",
       "      <th></th>\n",
       "      <th>Question #</th>\n",
       "      <th>Question Prompt</th>\n",
       "      <th>Answer Choices</th>\n",
       "      <th>Correct Answer Choice</th>\n",
       "    </tr>\n",
       "  </thead>\n",
       "  <tbody>\n",
       "    <tr>\n",
       "      <th>0</th>\n",
       "      <td>1.1</td>\n",
       "      <td>Archaea are the third domain of life and have ...</td>\n",
       "      <td>Choice 1 of 2:prokaryotes\\n\\nChoice 2 of 2:euk...</td>\n",
       "      <td>1</td>\n",
       "    </tr>\n",
       "    <tr>\n",
       "      <th>1</th>\n",
       "      <td>1.2</td>\n",
       "      <td>Archaea contain histone proteins, a feature co...</td>\n",
       "      <td>Choice 1 of 2:prokaryotes\\n\\nChoice 2 of 2:euk...</td>\n",
       "      <td>2</td>\n",
       "    </tr>\n",
       "    <tr>\n",
       "      <th>2</th>\n",
       "      <td>1.3</td>\n",
       "      <td>Archaea contain their genome in the cytoplasm,...</td>\n",
       "      <td>Choice 1 of 2:prokaryotes\\n\\nChoice 2 of 2:euk...</td>\n",
       "      <td>1</td>\n",
       "    </tr>\n",
       "    <tr>\n",
       "      <th>3</th>\n",
       "      <td>1.4</td>\n",
       "      <td>Which of the following statements about telome...</td>\n",
       "      <td>Choice 1 of 4:Telomerase extends the 5’ ends o...</td>\n",
       "      <td>2, 3</td>\n",
       "    </tr>\n",
       "    <tr>\n",
       "      <th>4</th>\n",
       "      <td>1.5</td>\n",
       "      <td>Which of the following features apply to proka...</td>\n",
       "      <td>Choice 1 of 5:occurs in the cytoplasm\\nChoice ...</td>\n",
       "      <td>1, 4</td>\n",
       "    </tr>\n",
       "  </tbody>\n",
       "</table>\n",
       "</div>"
      ],
      "text/plain": [
       "   Question #                                    Question Prompt  \\\n",
       "0         1.1  Archaea are the third domain of life and have ...   \n",
       "1         1.2  Archaea contain histone proteins, a feature co...   \n",
       "2         1.3  Archaea contain their genome in the cytoplasm,...   \n",
       "3         1.4  Which of the following statements about telome...   \n",
       "4         1.5  Which of the following features apply to proka...   \n",
       "\n",
       "                                      Answer Choices Correct Answer Choice  \n",
       "0  Choice 1 of 2:prokaryotes\\n\\nChoice 2 of 2:euk...                     1  \n",
       "1  Choice 1 of 2:prokaryotes\\n\\nChoice 2 of 2:euk...                     2  \n",
       "2  Choice 1 of 2:prokaryotes\\n\\nChoice 2 of 2:euk...                     1  \n",
       "3  Choice 1 of 4:Telomerase extends the 5’ ends o...                  2, 3  \n",
       "4  Choice 1 of 5:occurs in the cytoplasm\\nChoice ...                  1, 4  "
      ]
     },
     "execution_count": 46,
     "metadata": {},
     "output_type": "execute_result"
    }
   ],
   "source": [
    "df.head()"
   ]
  },
  {
   "cell_type": "code",
   "execution_count": 54,
   "metadata": {},
   "outputs": [
    {
     "name": "stdout",
     "output_type": "stream",
     "text": [
      " Choice 1 of 4: Telomerase extends the 3' ends of DNA. (Correction: The question states that telomerase extends the 5' ends, but it actually extends the 3' ends.)\n",
      "Choice 3 of 4: Telomeres serve as an important buffer between genes and chromosomal ends, preventing loss of genetic information.\n",
      "\n",
      "The context provided does not directly relate to the given question about telomeres. However, I will provide some additional information that may be helpful in understanding epigenetics and its relation to gene expression.\n",
      "\n",
      "Epigenetics refers to changes in gene expression that occur without modifications to the underlying DNA sequence. Two primary mechanisms for epigenetic regulation are DNA methylation and histone modification.\n",
      "\n",
      "1. DNA methylation: In the context of telomeres, telomeric DNA is usually hypomethylated compared to other regions of the genome. However, in some cases, telomeric DNA can become hypermethylated, leading to silencing of telomerase expression and shorter telomeres. This may contribute to cellular aging and disease.\n",
      "\n",
      "2. Histone modification: Acetylation and deacetylation of histones can alter the accessibility of chromatin to transcription factors and RNA polymerase, thus influencing gene expression. For instance, during development, some genes undergo histone acetylation, which makes their chromatin more accessible for transcription.\n",
      "\n",
      "So, while the provided context does not directly relate to telomeres, it offers valuable information about epigenetics and its role in gene regulation.\n"
     ]
    }
   ],
   "source": [
    "question = df.iloc[3, 1]\n",
    "choices = df.iloc[3, 2]\n",
    "qna = f\"Give the correct answer choice number to the following question\\n{question}\\n {choices}\"\n",
    "response = query_engine.query(qna)\n",
    "print(response)"
   ]
  },
  {
   "cell_type": "code",
   "execution_count": 57,
   "metadata": {},
   "outputs": [],
   "source": [
    "from llama_index.evaluation import CorrectnessEvaluator, FaithfulnessEvaluator, RelevancyEvaluator"
   ]
  },
  {
   "cell_type": "code",
   "execution_count": 58,
   "metadata": {},
   "outputs": [],
   "source": [
    "correctness_evaluator = CorrectnessEvaluator(service_context=service_cxt)\n",
    "faithfulness_evaluator = FaithfulnessEvaluator(service_context=service_cxt)\n",
    "relevancy_evaluator = RelevancyEvaluator(service_context=service_cxt)"
   ]
  },
  {
   "cell_type": "code",
   "execution_count": 49,
   "metadata": {},
   "outputs": [],
   "source": [
    "for i in range(1):# range(len(df)):\n",
    "    question = df.iloc[i, 1]\n",
    "    choices = df.iloc[i, 2]\n",
    "    qna = f\"Give the correct answer choice number to the following question\\n{question}\\n {choices}\"\n",
    "    response = query_engine.query(qna)\n",
    "\n",
    "    # correctness evaluation\n",
    "    correct_answer = df.iloc[i, 3]\n",
    "    correctness_eval = correctness_evaluator.evaluate(query=qna, response=response,\n",
    "                                                      reference=correct_answer)\n",
    "    correctness_score = correctness_eval.score\n",
    "    # faithfulness evaluation\n",
    "    faithfulness_eval = faithfulness_evaluator.evaluate_response(query=qna, response=response)\n",
    "    faithfulness_flag = faithfulness_eval.passing\n",
    "\n",
    "    # relevancy evaluation\n",
    "    relevancy_eval = relevancy_evaluator.evaluate_response(query=qna, response=response)\n",
    "    relevancy_flag = relevancy_eval.passing\n",
    "\n",
    "    df = pd.DataFrame({\"question\": question, \"choices\": choices, \"qna\": qna, \"response\": response,\n",
    "                          \"correctness_score\": correctness_score, \"faithfulness_flag\": faithfulness_flag,\n",
    "                          \"relevancy_flag\": relevancy_flag}, index=[0])\n",
    "    df.to_csv(\"results.csv\", mode='a', header=False)\n",
    "\n",
    "    print(response)"
   ]
  },
  {
   "cell_type": "code",
   "execution_count": null,
   "metadata": {},
   "outputs": [],
   "source": []
  }
 ],
 "metadata": {
  "kernelspec": {
   "display_name": ".venv",
   "language": "python",
   "name": "python3"
  },
  "language_info": {
   "codemirror_mode": {
    "name": "ipython",
    "version": 3
   },
   "file_extension": ".py",
   "mimetype": "text/x-python",
   "name": "python",
   "nbconvert_exporter": "python",
   "pygments_lexer": "ipython3",
   "version": "3.11.6"
  }
 },
 "nbformat": 4,
 "nbformat_minor": 2
}
