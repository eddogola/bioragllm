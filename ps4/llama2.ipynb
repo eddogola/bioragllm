{
 "cells": [
  {
   "cell_type": "code",
   "execution_count": 1,
   "metadata": {},
   "outputs": [
    {
     "name": "stdout",
     "output_type": "stream",
     "text": [
      "Requirement already satisfied: llama-index in /Users/ogola/tinyml/project/bioragllm/.venv/lib/python3.11/site-packages (0.9.14.post1)\n",
      "Requirement already satisfied: transformers in /Users/ogola/tinyml/project/bioragllm/.venv/lib/python3.11/site-packages (4.36.0)\n",
      "Requirement already satisfied: torch in /Users/ogola/tinyml/project/bioragllm/.venv/lib/python3.11/site-packages (2.1.1)\n",
      "Requirement already satisfied: SQLAlchemy>=1.4.49 in /Users/ogola/tinyml/project/bioragllm/.venv/lib/python3.11/site-packages (from SQLAlchemy[asyncio]>=1.4.49->llama-index) (2.0.23)\n",
      "Requirement already satisfied: aiohttp<4.0.0,>=3.8.6 in /Users/ogola/tinyml/project/bioragllm/.venv/lib/python3.11/site-packages (from llama-index) (3.9.1)\n",
      "Requirement already satisfied: beautifulsoup4<5.0.0,>=4.12.2 in /Users/ogola/tinyml/project/bioragllm/.venv/lib/python3.11/site-packages (from llama-index) (4.12.2)\n",
      "Requirement already satisfied: dataclasses-json in /Users/ogola/tinyml/project/bioragllm/.venv/lib/python3.11/site-packages (from llama-index) (0.6.3)\n",
      "Requirement already satisfied: deprecated>=1.2.9.3 in /Users/ogola/tinyml/project/bioragllm/.venv/lib/python3.11/site-packages (from llama-index) (1.2.14)\n",
      "Requirement already satisfied: fsspec>=2023.5.0 in /Users/ogola/tinyml/project/bioragllm/.venv/lib/python3.11/site-packages (from llama-index) (2023.12.2)\n",
      "Requirement already satisfied: httpx in /Users/ogola/tinyml/project/bioragllm/.venv/lib/python3.11/site-packages (from llama-index) (0.25.2)\n",
      "Requirement already satisfied: nest-asyncio<2.0.0,>=1.5.8 in /Users/ogola/tinyml/project/bioragllm/.venv/lib/python3.11/site-packages (from llama-index) (1.5.8)\n",
      "Requirement already satisfied: nltk<4.0.0,>=3.8.1 in /Users/ogola/tinyml/project/bioragllm/.venv/lib/python3.11/site-packages (from llama-index) (3.8.1)\n",
      "Requirement already satisfied: numpy in /Users/ogola/tinyml/project/bioragllm/.venv/lib/python3.11/site-packages (from llama-index) (1.26.2)\n",
      "Requirement already satisfied: openai>=1.1.0 in /Users/ogola/tinyml/project/bioragllm/.venv/lib/python3.11/site-packages (from llama-index) (1.3.8)\n",
      "Requirement already satisfied: pandas in /Users/ogola/tinyml/project/bioragllm/.venv/lib/python3.11/site-packages (from llama-index) (2.1.4)\n",
      "Requirement already satisfied: requests>=2.31.0 in /Users/ogola/tinyml/project/bioragllm/.venv/lib/python3.11/site-packages (from llama-index) (2.31.0)\n",
      "Requirement already satisfied: tenacity<9.0.0,>=8.2.0 in /Users/ogola/tinyml/project/bioragllm/.venv/lib/python3.11/site-packages (from llama-index) (8.2.3)\n",
      "Requirement already satisfied: tiktoken>=0.3.3 in /Users/ogola/tinyml/project/bioragllm/.venv/lib/python3.11/site-packages (from llama-index) (0.5.2)\n",
      "Requirement already satisfied: typing-extensions>=4.5.0 in /Users/ogola/tinyml/project/bioragllm/.venv/lib/python3.11/site-packages (from llama-index) (4.9.0)\n",
      "Requirement already satisfied: typing-inspect>=0.8.0 in /Users/ogola/tinyml/project/bioragllm/.venv/lib/python3.11/site-packages (from llama-index) (0.9.0)\n",
      "Requirement already satisfied: filelock in /Users/ogola/tinyml/project/bioragllm/.venv/lib/python3.11/site-packages (from transformers) (3.13.1)\n",
      "Requirement already satisfied: huggingface-hub<1.0,>=0.19.3 in /Users/ogola/tinyml/project/bioragllm/.venv/lib/python3.11/site-packages (from transformers) (0.19.4)\n",
      "Requirement already satisfied: packaging>=20.0 in /Users/ogola/tinyml/project/bioragllm/.venv/lib/python3.11/site-packages (from transformers) (23.2)\n",
      "Requirement already satisfied: pyyaml>=5.1 in /Users/ogola/tinyml/project/bioragllm/.venv/lib/python3.11/site-packages (from transformers) (6.0.1)\n",
      "Requirement already satisfied: regex!=2019.12.17 in /Users/ogola/tinyml/project/bioragllm/.venv/lib/python3.11/site-packages (from transformers) (2023.10.3)\n",
      "Requirement already satisfied: tokenizers<0.19,>=0.14 in /Users/ogola/tinyml/project/bioragllm/.venv/lib/python3.11/site-packages (from transformers) (0.15.0)\n",
      "Requirement already satisfied: safetensors>=0.3.1 in /Users/ogola/tinyml/project/bioragllm/.venv/lib/python3.11/site-packages (from transformers) (0.4.1)\n",
      "Requirement already satisfied: tqdm>=4.27 in /Users/ogola/tinyml/project/bioragllm/.venv/lib/python3.11/site-packages (from transformers) (4.66.1)\n",
      "Requirement already satisfied: sympy in /Users/ogola/tinyml/project/bioragllm/.venv/lib/python3.11/site-packages (from torch) (1.12)\n",
      "Requirement already satisfied: networkx in /Users/ogola/tinyml/project/bioragllm/.venv/lib/python3.11/site-packages (from torch) (3.2.1)\n",
      "Requirement already satisfied: jinja2 in /Users/ogola/tinyml/project/bioragllm/.venv/lib/python3.11/site-packages (from torch) (3.1.2)\n",
      "Requirement already satisfied: attrs>=17.3.0 in /Users/ogola/tinyml/project/bioragllm/.venv/lib/python3.11/site-packages (from aiohttp<4.0.0,>=3.8.6->llama-index) (23.1.0)\n",
      "Requirement already satisfied: multidict<7.0,>=4.5 in /Users/ogola/tinyml/project/bioragllm/.venv/lib/python3.11/site-packages (from aiohttp<4.0.0,>=3.8.6->llama-index) (6.0.4)\n",
      "Requirement already satisfied: yarl<2.0,>=1.0 in /Users/ogola/tinyml/project/bioragllm/.venv/lib/python3.11/site-packages (from aiohttp<4.0.0,>=3.8.6->llama-index) (1.9.4)\n",
      "Requirement already satisfied: frozenlist>=1.1.1 in /Users/ogola/tinyml/project/bioragllm/.venv/lib/python3.11/site-packages (from aiohttp<4.0.0,>=3.8.6->llama-index) (1.4.0)\n",
      "Requirement already satisfied: aiosignal>=1.1.2 in /Users/ogola/tinyml/project/bioragllm/.venv/lib/python3.11/site-packages (from aiohttp<4.0.0,>=3.8.6->llama-index) (1.3.1)\n",
      "Requirement already satisfied: soupsieve>1.2 in /Users/ogola/tinyml/project/bioragllm/.venv/lib/python3.11/site-packages (from beautifulsoup4<5.0.0,>=4.12.2->llama-index) (2.5)\n",
      "Requirement already satisfied: wrapt<2,>=1.10 in /Users/ogola/tinyml/project/bioragllm/.venv/lib/python3.11/site-packages (from deprecated>=1.2.9.3->llama-index) (1.16.0)\n",
      "Requirement already satisfied: click in /Users/ogola/tinyml/project/bioragllm/.venv/lib/python3.11/site-packages (from nltk<4.0.0,>=3.8.1->llama-index) (8.1.7)\n",
      "Requirement already satisfied: joblib in /Users/ogola/tinyml/project/bioragllm/.venv/lib/python3.11/site-packages (from nltk<4.0.0,>=3.8.1->llama-index) (1.3.2)\n",
      "Requirement already satisfied: anyio<5,>=3.5.0 in /Users/ogola/tinyml/project/bioragllm/.venv/lib/python3.11/site-packages (from openai>=1.1.0->llama-index) (4.1.0)\n",
      "Requirement already satisfied: distro<2,>=1.7.0 in /Users/ogola/tinyml/project/bioragllm/.venv/lib/python3.11/site-packages (from openai>=1.1.0->llama-index) (1.8.0)\n",
      "Requirement already satisfied: pydantic<3,>=1.9.0 in /Users/ogola/tinyml/project/bioragllm/.venv/lib/python3.11/site-packages (from openai>=1.1.0->llama-index) (2.5.2)\n",
      "Requirement already satisfied: sniffio in /Users/ogola/tinyml/project/bioragllm/.venv/lib/python3.11/site-packages (from openai>=1.1.0->llama-index) (1.3.0)\n",
      "Requirement already satisfied: certifi in /Users/ogola/tinyml/project/bioragllm/.venv/lib/python3.11/site-packages (from httpx->llama-index) (2023.11.17)\n",
      "Requirement already satisfied: httpcore==1.* in /Users/ogola/tinyml/project/bioragllm/.venv/lib/python3.11/site-packages (from httpx->llama-index) (1.0.2)\n",
      "Requirement already satisfied: idna in /Users/ogola/tinyml/project/bioragllm/.venv/lib/python3.11/site-packages (from httpx->llama-index) (3.6)\n",
      "Requirement already satisfied: h11<0.15,>=0.13 in /Users/ogola/tinyml/project/bioragllm/.venv/lib/python3.11/site-packages (from httpcore==1.*->httpx->llama-index) (0.14.0)\n",
      "Requirement already satisfied: charset-normalizer<4,>=2 in /Users/ogola/tinyml/project/bioragllm/.venv/lib/python3.11/site-packages (from requests>=2.31.0->llama-index) (3.3.2)\n",
      "Requirement already satisfied: urllib3<3,>=1.21.1 in /Users/ogola/tinyml/project/bioragllm/.venv/lib/python3.11/site-packages (from requests>=2.31.0->llama-index) (2.1.0)\n",
      "Requirement already satisfied: greenlet!=0.4.17 in /Users/ogola/tinyml/project/bioragllm/.venv/lib/python3.11/site-packages (from SQLAlchemy[asyncio]>=1.4.49->llama-index) (3.0.2)\n",
      "Requirement already satisfied: mypy-extensions>=0.3.0 in /Users/ogola/tinyml/project/bioragllm/.venv/lib/python3.11/site-packages (from typing-inspect>=0.8.0->llama-index) (1.0.0)\n",
      "Requirement already satisfied: marshmallow<4.0.0,>=3.18.0 in /Users/ogola/tinyml/project/bioragllm/.venv/lib/python3.11/site-packages (from dataclasses-json->llama-index) (3.20.1)\n",
      "Requirement already satisfied: MarkupSafe>=2.0 in /Users/ogola/tinyml/project/bioragllm/.venv/lib/python3.11/site-packages (from jinja2->torch) (2.1.3)\n",
      "Requirement already satisfied: python-dateutil>=2.8.2 in /Users/ogola/tinyml/project/bioragllm/.venv/lib/python3.11/site-packages (from pandas->llama-index) (2.8.2)\n",
      "Requirement already satisfied: pytz>=2020.1 in /Users/ogola/tinyml/project/bioragllm/.venv/lib/python3.11/site-packages (from pandas->llama-index) (2023.3.post1)\n",
      "Requirement already satisfied: tzdata>=2022.1 in /Users/ogola/tinyml/project/bioragllm/.venv/lib/python3.11/site-packages (from pandas->llama-index) (2023.3)\n",
      "Requirement already satisfied: mpmath>=0.19 in /Users/ogola/tinyml/project/bioragllm/.venv/lib/python3.11/site-packages (from sympy->torch) (1.3.0)\n",
      "Requirement already satisfied: annotated-types>=0.4.0 in /Users/ogola/tinyml/project/bioragllm/.venv/lib/python3.11/site-packages (from pydantic<3,>=1.9.0->openai>=1.1.0->llama-index) (0.6.0)\n",
      "Requirement already satisfied: pydantic-core==2.14.5 in /Users/ogola/tinyml/project/bioragllm/.venv/lib/python3.11/site-packages (from pydantic<3,>=1.9.0->openai>=1.1.0->llama-index) (2.14.5)\n",
      "Requirement already satisfied: six>=1.5 in /Users/ogola/tinyml/project/bioragllm/.venv/lib/python3.11/site-packages (from python-dateutil>=2.8.2->pandas->llama-index) (1.16.0)\n",
      "Note: you may need to restart the kernel to use updated packages.\n"
     ]
    }
   ],
   "source": [
    "%pip install llama-index transformers torch"
   ]
  },
  {
   "cell_type": "code",
   "execution_count": 2,
   "metadata": {},
   "outputs": [
    {
     "name": "stderr",
     "output_type": "stream",
     "text": [
      "/Users/ogola/tinyml/project/bioragllm/.venv/lib/python3.11/site-packages/tqdm/auto.py:21: TqdmWarning: IProgress not found. Please update jupyter and ipywidgets. See https://ipywidgets.readthedocs.io/en/stable/user_install.html\n",
      "  from .autonotebook import tqdm as notebook_tqdm\n"
     ]
    }
   ],
   "source": [
    "from llama_index.embeddings import HuggingFaceEmbedding\n",
    "\n",
    "# loads BAAI/bge-small-en-v1.5\n",
    "embed_model = HuggingFaceEmbedding(model_name=\"BAAI/bge-small-en-v1.5\")"
   ]
  },
  {
   "cell_type": "code",
   "execution_count": 3,
   "metadata": {},
   "outputs": [],
   "source": [
    "from llama_index.llms import Ollama\n",
    "from llama_index import SimpleDirectoryReader, ServiceContext, KeywordTableIndex"
   ]
  },
  {
   "cell_type": "code",
   "execution_count": 4,
   "metadata": {},
   "outputs": [],
   "source": [
    "llm = Ollama(model=\"llama2\", temperature=0)"
   ]
  },
  {
   "cell_type": "code",
   "execution_count": 21,
   "metadata": {},
   "outputs": [
    {
     "name": "stdout",
     "output_type": "stream",
     "text": [
      "Collecting mlflow\n",
      "  Downloading mlflow-2.9.1-py3-none-any.whl.metadata (13 kB)\n",
      "Requirement already satisfied: click<9,>=7.0 in /Users/ogola/tinyml/project/bioragllm/.venv/lib/python3.11/site-packages (from mlflow) (8.1.7)\n",
      "Collecting cloudpickle<4 (from mlflow)\n",
      "  Downloading cloudpickle-3.0.0-py3-none-any.whl.metadata (7.0 kB)\n",
      "Collecting databricks-cli<1,>=0.8.7 (from mlflow)\n",
      "  Downloading databricks_cli-0.18.0-py2.py3-none-any.whl.metadata (4.0 kB)\n",
      "Collecting entrypoints<1 (from mlflow)\n",
      "  Downloading entrypoints-0.4-py3-none-any.whl (5.3 kB)\n",
      "Collecting gitpython<4,>=2.1.0 (from mlflow)\n",
      "  Using cached GitPython-3.1.40-py3-none-any.whl.metadata (12 kB)\n",
      "Requirement already satisfied: pyyaml<7,>=5.1 in /Users/ogola/tinyml/project/bioragllm/.venv/lib/python3.11/site-packages (from mlflow) (6.0.1)\n",
      "Collecting protobuf<5,>=3.12.0 (from mlflow)\n",
      "  Using cached protobuf-4.25.1-cp37-abi3-macosx_10_9_universal2.whl.metadata (541 bytes)\n",
      "Requirement already satisfied: pytz<2024 in /Users/ogola/tinyml/project/bioragllm/.venv/lib/python3.11/site-packages (from mlflow) (2023.3.post1)\n",
      "Requirement already satisfied: requests<3,>=2.17.3 in /Users/ogola/tinyml/project/bioragllm/.venv/lib/python3.11/site-packages (from mlflow) (2.31.0)\n",
      "Requirement already satisfied: packaging<24 in /Users/ogola/tinyml/project/bioragllm/.venv/lib/python3.11/site-packages (from mlflow) (23.2)\n",
      "Collecting importlib-metadata!=4.7.0,<8,>=3.7.0 (from mlflow)\n",
      "  Downloading importlib_metadata-7.0.0-py3-none-any.whl.metadata (4.9 kB)\n",
      "Collecting sqlparse<1,>=0.4.0 (from mlflow)\n",
      "  Downloading sqlparse-0.4.4-py3-none-any.whl (41 kB)\n",
      "\u001b[2K     \u001b[38;2;114;156;31m━━━━━━━━━━━━━━━━━━━━━━━━━━━━━━━━━━━━━━━━\u001b[0m \u001b[32m41.2/41.2 kB\u001b[0m \u001b[31m3.3 MB/s\u001b[0m eta \u001b[36m0:00:00\u001b[0m\n",
      "\u001b[?25hCollecting alembic!=1.10.0,<2 (from mlflow)\n",
      "  Downloading alembic-1.13.0-py3-none-any.whl.metadata (7.4 kB)\n",
      "Collecting docker<7,>=4.0.0 (from mlflow)\n",
      "  Downloading docker-6.1.3-py3-none-any.whl.metadata (3.5 kB)\n",
      "Collecting Flask<4 (from mlflow)\n",
      "  Downloading flask-3.0.0-py3-none-any.whl.metadata (3.6 kB)\n",
      "Requirement already satisfied: numpy<2 in /Users/ogola/tinyml/project/bioragllm/.venv/lib/python3.11/site-packages (from mlflow) (1.26.2)\n",
      "Collecting scipy<2 (from mlflow)\n",
      "  Downloading scipy-1.11.4-cp311-cp311-macosx_12_0_arm64.whl.metadata (165 kB)\n",
      "\u001b[2K     \u001b[38;2;114;156;31m━━━━━━━━━━━━━━━━━━━━━━━━━━━━━━━━━━━━━━━\u001b[0m \u001b[32m165.4/165.4 kB\u001b[0m \u001b[31m6.2 MB/s\u001b[0m eta \u001b[36m0:00:00\u001b[0m\n",
      "\u001b[?25hRequirement already satisfied: pandas<3 in /Users/ogola/tinyml/project/bioragllm/.venv/lib/python3.11/site-packages (from mlflow) (2.1.4)\n",
      "Collecting querystring-parser<2 (from mlflow)\n",
      "  Downloading querystring_parser-1.2.4-py2.py3-none-any.whl (7.9 kB)\n",
      "Requirement already satisfied: sqlalchemy<3,>=1.4.0 in /Users/ogola/tinyml/project/bioragllm/.venv/lib/python3.11/site-packages (from mlflow) (2.0.23)\n",
      "Collecting scikit-learn<2 (from mlflow)\n",
      "  Downloading scikit_learn-1.3.2-cp311-cp311-macosx_12_0_arm64.whl.metadata (11 kB)\n",
      "Collecting pyarrow<15,>=4.0.0 (from mlflow)\n",
      "  Using cached pyarrow-14.0.1-cp311-cp311-macosx_11_0_arm64.whl.metadata (3.0 kB)\n",
      "Collecting markdown<4,>=3.3 (from mlflow)\n",
      "  Downloading Markdown-3.5.1-py3-none-any.whl.metadata (7.1 kB)\n",
      "Collecting matplotlib<4 (from mlflow)\n",
      "  Downloading matplotlib-3.8.2-cp311-cp311-macosx_11_0_arm64.whl.metadata (5.8 kB)\n",
      "Collecting gunicorn<22 (from mlflow)\n",
      "  Downloading gunicorn-21.2.0-py3-none-any.whl.metadata (4.1 kB)\n",
      "Requirement already satisfied: Jinja2<4,>=2.11 in /Users/ogola/tinyml/project/bioragllm/.venv/lib/python3.11/site-packages (from mlflow) (3.1.2)\n",
      "Collecting Mako (from alembic!=1.10.0,<2->mlflow)\n",
      "  Downloading Mako-1.3.0-py3-none-any.whl.metadata (2.9 kB)\n",
      "Requirement already satisfied: typing-extensions>=4 in /Users/ogola/tinyml/project/bioragllm/.venv/lib/python3.11/site-packages (from alembic!=1.10.0,<2->mlflow) (4.9.0)\n",
      "Collecting pyjwt>=1.7.0 (from databricks-cli<1,>=0.8.7->mlflow)\n",
      "  Using cached PyJWT-2.8.0-py3-none-any.whl.metadata (4.2 kB)\n",
      "Collecting oauthlib>=3.1.0 (from databricks-cli<1,>=0.8.7->mlflow)\n",
      "  Using cached oauthlib-3.2.2-py3-none-any.whl (151 kB)\n",
      "Collecting tabulate>=0.7.7 (from databricks-cli<1,>=0.8.7->mlflow)\n",
      "  Downloading tabulate-0.9.0-py3-none-any.whl (35 kB)\n",
      "Requirement already satisfied: six>=1.10.0 in /Users/ogola/tinyml/project/bioragllm/.venv/lib/python3.11/site-packages (from databricks-cli<1,>=0.8.7->mlflow) (1.16.0)\n",
      "Requirement already satisfied: urllib3<3,>=1.26.7 in /Users/ogola/tinyml/project/bioragllm/.venv/lib/python3.11/site-packages (from databricks-cli<1,>=0.8.7->mlflow) (2.1.0)\n",
      "Collecting websocket-client>=0.32.0 (from docker<7,>=4.0.0->mlflow)\n",
      "  Downloading websocket_client-1.7.0-py3-none-any.whl.metadata (7.9 kB)\n",
      "Collecting Werkzeug>=3.0.0 (from Flask<4->mlflow)\n",
      "  Downloading werkzeug-3.0.1-py3-none-any.whl.metadata (4.1 kB)\n",
      "Collecting itsdangerous>=2.1.2 (from Flask<4->mlflow)\n",
      "  Downloading itsdangerous-2.1.2-py3-none-any.whl (15 kB)\n",
      "Collecting blinker>=1.6.2 (from Flask<4->mlflow)\n",
      "  Downloading blinker-1.7.0-py3-none-any.whl.metadata (1.9 kB)\n",
      "Collecting gitdb<5,>=4.0.1 (from gitpython<4,>=2.1.0->mlflow)\n",
      "  Using cached gitdb-4.0.11-py3-none-any.whl.metadata (1.2 kB)\n",
      "Collecting zipp>=0.5 (from importlib-metadata!=4.7.0,<8,>=3.7.0->mlflow)\n",
      "  Using cached zipp-3.17.0-py3-none-any.whl.metadata (3.7 kB)\n",
      "Requirement already satisfied: MarkupSafe>=2.0 in /Users/ogola/tinyml/project/bioragllm/.venv/lib/python3.11/site-packages (from Jinja2<4,>=2.11->mlflow) (2.1.3)\n",
      "Collecting contourpy>=1.0.1 (from matplotlib<4->mlflow)\n",
      "  Downloading contourpy-1.2.0-cp311-cp311-macosx_11_0_arm64.whl.metadata (5.8 kB)\n",
      "Collecting cycler>=0.10 (from matplotlib<4->mlflow)\n",
      "  Using cached cycler-0.12.1-py3-none-any.whl.metadata (3.8 kB)\n",
      "Collecting fonttools>=4.22.0 (from matplotlib<4->mlflow)\n",
      "  Downloading fonttools-4.46.0-cp311-cp311-macosx_10_9_universal2.whl.metadata (156 kB)\n",
      "\u001b[2K     \u001b[38;2;114;156;31m━━━━━━━━━━━━━━━━━━━━━━━━━━━━━━━━━━━━━━\u001b[0m \u001b[32m156.2/156.2 kB\u001b[0m \u001b[31m10.7 MB/s\u001b[0m eta \u001b[36m0:00:00\u001b[0m\n",
      "\u001b[?25hCollecting kiwisolver>=1.3.1 (from matplotlib<4->mlflow)\n",
      "  Downloading kiwisolver-1.4.5-cp311-cp311-macosx_11_0_arm64.whl.metadata (6.4 kB)\n",
      "Collecting pillow>=8 (from matplotlib<4->mlflow)\n",
      "  Downloading Pillow-10.1.0-cp311-cp311-macosx_11_0_arm64.whl.metadata (9.5 kB)\n",
      "Collecting pyparsing>=2.3.1 (from matplotlib<4->mlflow)\n",
      "  Using cached pyparsing-3.1.1-py3-none-any.whl.metadata (5.1 kB)\n",
      "Requirement already satisfied: python-dateutil>=2.7 in /Users/ogola/tinyml/project/bioragllm/.venv/lib/python3.11/site-packages (from matplotlib<4->mlflow) (2.8.2)\n",
      "Requirement already satisfied: tzdata>=2022.1 in /Users/ogola/tinyml/project/bioragllm/.venv/lib/python3.11/site-packages (from pandas<3->mlflow) (2023.3)\n",
      "Requirement already satisfied: charset-normalizer<4,>=2 in /Users/ogola/tinyml/project/bioragllm/.venv/lib/python3.11/site-packages (from requests<3,>=2.17.3->mlflow) (3.3.2)\n",
      "Requirement already satisfied: idna<4,>=2.5 in /Users/ogola/tinyml/project/bioragllm/.venv/lib/python3.11/site-packages (from requests<3,>=2.17.3->mlflow) (3.6)\n",
      "Requirement already satisfied: certifi>=2017.4.17 in /Users/ogola/tinyml/project/bioragllm/.venv/lib/python3.11/site-packages (from requests<3,>=2.17.3->mlflow) (2023.11.17)\n",
      "Requirement already satisfied: joblib>=1.1.1 in /Users/ogola/tinyml/project/bioragllm/.venv/lib/python3.11/site-packages (from scikit-learn<2->mlflow) (1.3.2)\n",
      "Collecting threadpoolctl>=2.0.0 (from scikit-learn<2->mlflow)\n",
      "  Using cached threadpoolctl-3.2.0-py3-none-any.whl.metadata (10.0 kB)\n",
      "Collecting smmap<6,>=3.0.1 (from gitdb<5,>=4.0.1->gitpython<4,>=2.1.0->mlflow)\n",
      "  Using cached smmap-5.0.1-py3-none-any.whl.metadata (4.3 kB)\n",
      "Downloading mlflow-2.9.1-py3-none-any.whl (19.1 MB)\n",
      "\u001b[2K   \u001b[38;2;114;156;31m━━━━━━━━━━━━━━━━━━━━━━━━━━━━━━━━━━━━━━━━\u001b[0m \u001b[32m19.1/19.1 MB\u001b[0m \u001b[31m18.1 MB/s\u001b[0m eta \u001b[36m0:00:00\u001b[0mm eta \u001b[36m0:00:01\u001b[0m[36m0:00:01\u001b[0m\n",
      "\u001b[?25hDownloading alembic-1.13.0-py3-none-any.whl (230 kB)\n",
      "\u001b[2K   \u001b[38;2;114;156;31m━━━━━━━━━━━━━━━━━━━━━━━━━━━━━━━━━━━━━━━━\u001b[0m \u001b[32m230.6/230.6 kB\u001b[0m \u001b[31m11.7 MB/s\u001b[0m eta \u001b[36m0:00:00\u001b[0m\n",
      "\u001b[?25hDownloading cloudpickle-3.0.0-py3-none-any.whl (20 kB)\n",
      "Downloading databricks_cli-0.18.0-py2.py3-none-any.whl (150 kB)\n",
      "\u001b[2K   \u001b[38;2;114;156;31m━━━━━━━━━━━━━━━━━━━━━━━━━━━━━━━━━━━━━━━━\u001b[0m \u001b[32m150.3/150.3 kB\u001b[0m \u001b[31m3.7 MB/s\u001b[0m eta \u001b[36m0:00:00\u001b[0m MB/s\u001b[0m eta \u001b[36m0:00:01\u001b[0m\n",
      "\u001b[?25hDownloading docker-6.1.3-py3-none-any.whl (148 kB)\n",
      "\u001b[2K   \u001b[38;2;114;156;31m━━━━━━━━━━━━━━━━━━━━━━━━━━━━━━━━━━━━━━━━\u001b[0m \u001b[32m148.1/148.1 kB\u001b[0m \u001b[31m12.6 MB/s\u001b[0m eta \u001b[36m0:00:00\u001b[0m\n",
      "\u001b[?25hDownloading flask-3.0.0-py3-none-any.whl (99 kB)\n",
      "\u001b[2K   \u001b[38;2;114;156;31m━━━━━━━━━━━━━━━━━━━━━━━━━━━━━━━━━━━━━━━━\u001b[0m \u001b[32m99.7/99.7 kB\u001b[0m \u001b[31m8.6 MB/s\u001b[0m eta \u001b[36m0:00:00\u001b[0m\n",
      "\u001b[?25hUsing cached GitPython-3.1.40-py3-none-any.whl (190 kB)\n",
      "Downloading gunicorn-21.2.0-py3-none-any.whl (80 kB)\n",
      "\u001b[2K   \u001b[38;2;114;156;31m━━━━━━━━━━━━━━━━━━━━━━━━━━━━━━━━━━━━━━━━\u001b[0m \u001b[32m80.2/80.2 kB\u001b[0m \u001b[31m6.9 MB/s\u001b[0m eta \u001b[36m0:00:00\u001b[0m\n",
      "\u001b[?25hDownloading importlib_metadata-7.0.0-py3-none-any.whl (23 kB)\n",
      "Downloading Markdown-3.5.1-py3-none-any.whl (102 kB)\n",
      "\u001b[2K   \u001b[38;2;114;156;31m━━━━━━━━━━━━━━━━━━━━━━━━━━━━━━━━━━━━━━━━\u001b[0m \u001b[32m102.2/102.2 kB\u001b[0m \u001b[31m8.1 MB/s\u001b[0m eta \u001b[36m0:00:00\u001b[0m\n",
      "\u001b[?25hDownloading matplotlib-3.8.2-cp311-cp311-macosx_11_0_arm64.whl (7.5 MB)\n",
      "\u001b[2K   \u001b[38;2;114;156;31m━━━━━━━━━━━━━━━━━━━━━━━━━━━━━━━━━━━━━━━━\u001b[0m \u001b[32m7.5/7.5 MB\u001b[0m \u001b[31m14.6 MB/s\u001b[0m eta \u001b[36m0:00:00\u001b[0mm eta \u001b[36m0:00:01\u001b[0m[36m0:00:01\u001b[0m\n",
      "\u001b[?25hUsing cached protobuf-4.25.1-cp37-abi3-macosx_10_9_universal2.whl (394 kB)\n",
      "Using cached pyarrow-14.0.1-cp311-cp311-macosx_11_0_arm64.whl (24.0 MB)\n",
      "Downloading scikit_learn-1.3.2-cp311-cp311-macosx_12_0_arm64.whl (9.4 MB)\n",
      "\u001b[2K   \u001b[38;2;114;156;31m━━━━━━━━━━━━━━━━━━━━━━━━━━━━━━━━━━━━━━━━\u001b[0m \u001b[32m9.4/9.4 MB\u001b[0m \u001b[31m15.5 MB/s\u001b[0m eta \u001b[36m0:00:00\u001b[0mm eta \u001b[36m0:00:01\u001b[0m[36m0:00:01\u001b[0m\n",
      "\u001b[?25hDownloading scipy-1.11.4-cp311-cp311-macosx_12_0_arm64.whl (29.7 MB)\n",
      "\u001b[2K   \u001b[38;2;114;156;31m━━━━━━━━━━━━━━━━━━━━━━━━━━━━━━━━━━━━━━━━\u001b[0m \u001b[32m29.7/29.7 MB\u001b[0m \u001b[31m13.4 MB/s\u001b[0m eta \u001b[36m0:00:00\u001b[0mm eta \u001b[36m0:00:01\u001b[0m[36m0:00:01\u001b[0m\n",
      "\u001b[?25hDownloading blinker-1.7.0-py3-none-any.whl (13 kB)\n",
      "Downloading contourpy-1.2.0-cp311-cp311-macosx_11_0_arm64.whl (243 kB)\n",
      "\u001b[2K   \u001b[38;2;114;156;31m━━━━━━━━━━━━━━━━━━━━━━━━━━━━━━━━━━━━━━━━\u001b[0m \u001b[32m243.4/243.4 kB\u001b[0m \u001b[31m9.7 MB/s\u001b[0m eta \u001b[36m0:00:00\u001b[0m\n",
      "\u001b[?25hUsing cached cycler-0.12.1-py3-none-any.whl (8.3 kB)\n",
      "Downloading fonttools-4.46.0-cp311-cp311-macosx_10_9_universal2.whl (2.8 MB)\n",
      "\u001b[2K   \u001b[38;2;114;156;31m━━━━━━━━━━━━━━━━━━━━━━━━━━━━━━━━━━━━━━━━\u001b[0m \u001b[32m2.8/2.8 MB\u001b[0m \u001b[31m21.6 MB/s\u001b[0m eta \u001b[36m0:00:00\u001b[0m MB/s\u001b[0m eta \u001b[36m0:00:01\u001b[0m:01\u001b[0m\n",
      "\u001b[?25hUsing cached gitdb-4.0.11-py3-none-any.whl (62 kB)\n",
      "Downloading kiwisolver-1.4.5-cp311-cp311-macosx_11_0_arm64.whl (66 kB)\n",
      "\u001b[2K   \u001b[38;2;114;156;31m━━━━━━━━━━━━━━━━━━━━━━━━━━━━━━━━━━━━━━━━\u001b[0m \u001b[32m66.2/66.2 kB\u001b[0m \u001b[31m6.8 MB/s\u001b[0m eta \u001b[36m0:00:00\u001b[0m\n",
      "\u001b[?25hDownloading Pillow-10.1.0-cp311-cp311-macosx_11_0_arm64.whl (3.3 MB)\n",
      "\u001b[2K   \u001b[38;2;114;156;31m━━━━━━━━━━━━━━━━━━━━━━━━━━━━━━━━━━━━━━━━\u001b[0m \u001b[32m3.3/3.3 MB\u001b[0m \u001b[31m11.7 MB/s\u001b[0m eta \u001b[36m0:00:00\u001b[0m MB/s\u001b[0m eta \u001b[36m0:00:01\u001b[0m:01\u001b[0m\n",
      "\u001b[?25hUsing cached PyJWT-2.8.0-py3-none-any.whl (22 kB)\n",
      "Using cached pyparsing-3.1.1-py3-none-any.whl (103 kB)\n",
      "Using cached threadpoolctl-3.2.0-py3-none-any.whl (15 kB)\n",
      "Downloading websocket_client-1.7.0-py3-none-any.whl (58 kB)\n",
      "\u001b[2K   \u001b[38;2;114;156;31m━━━━━━━━━━━━━━━━━━━━━━━━━━━━━━━━━━━━━━━━\u001b[0m \u001b[32m58.5/58.5 kB\u001b[0m \u001b[31m2.6 MB/s\u001b[0m eta \u001b[36m0:00:00\u001b[0m\n",
      "\u001b[?25hDownloading werkzeug-3.0.1-py3-none-any.whl (226 kB)\n",
      "\u001b[2K   \u001b[38;2;114;156;31m━━━━━━━━━━━━━━━━━━━━━━━━━━━━━━━━━━━━━━━━\u001b[0m \u001b[32m226.7/226.7 kB\u001b[0m \u001b[31m12.5 MB/s\u001b[0m eta \u001b[36m0:00:00\u001b[0m\n",
      "\u001b[?25hUsing cached zipp-3.17.0-py3-none-any.whl (7.4 kB)\n",
      "Downloading Mako-1.3.0-py3-none-any.whl (78 kB)\n",
      "\u001b[2K   \u001b[38;2;114;156;31m━━━━━━━━━━━━━━━━━━━━━━━━━━━━━━━━━━━━━━━━\u001b[0m \u001b[32m78.6/78.6 kB\u001b[0m \u001b[31m3.5 MB/s\u001b[0m eta \u001b[36m0:00:00\u001b[0m\n",
      "\u001b[?25hUsing cached smmap-5.0.1-py3-none-any.whl (24 kB)\n",
      "Installing collected packages: zipp, Werkzeug, websocket-client, threadpoolctl, tabulate, sqlparse, smmap, scipy, querystring-parser, pyparsing, pyjwt, pyarrow, protobuf, pillow, oauthlib, markdown, Mako, kiwisolver, itsdangerous, gunicorn, fonttools, entrypoints, cycler, contourpy, cloudpickle, blinker, scikit-learn, matplotlib, importlib-metadata, gitdb, Flask, docker, databricks-cli, alembic, gitpython, mlflow\n",
      "Successfully installed Flask-3.0.0 Mako-1.3.0 Werkzeug-3.0.1 alembic-1.13.0 blinker-1.7.0 cloudpickle-3.0.0 contourpy-1.2.0 cycler-0.12.1 databricks-cli-0.18.0 docker-6.1.3 entrypoints-0.4 fonttools-4.46.0 gitdb-4.0.11 gitpython-3.1.40 gunicorn-21.2.0 importlib-metadata-7.0.0 itsdangerous-2.1.2 kiwisolver-1.4.5 markdown-3.5.1 matplotlib-3.8.2 mlflow-2.9.1 oauthlib-3.2.2 pillow-10.1.0 protobuf-4.25.1 pyarrow-14.0.1 pyjwt-2.8.0 pyparsing-3.1.1 querystring-parser-1.2.4 scikit-learn-1.3.2 scipy-1.11.4 smmap-5.0.1 sqlparse-0.4.4 tabulate-0.9.0 threadpoolctl-3.2.0 websocket-client-1.7.0 zipp-3.17.0\n",
      "Note: you may need to restart the kernel to use updated packages.\n"
     ]
    }
   ],
   "source": [
    "%pip install mlflow"
   ]
  },
  {
   "cell_type": "code",
   "execution_count": null,
   "metadata": {},
   "outputs": [],
   "source": [
    "mlflow.evaluate(model=llm, )"
   ]
  },
  {
   "cell_type": "code",
   "execution_count": 5,
   "metadata": {},
   "outputs": [],
   "source": [
    "docs = SimpleDirectoryReader(\"data\").load_data()"
   ]
  },
  {
   "cell_type": "code",
   "execution_count": 6,
   "metadata": {},
   "outputs": [],
   "source": [
    "service_cxt = ServiceContext.from_defaults(llm=llm, embed_model=embed_model,\n",
    "                                           chunk_size=512)"
   ]
  },
  {
   "cell_type": "code",
   "execution_count": 7,
   "metadata": {},
   "outputs": [],
   "source": [
    "index = KeywordTableIndex.from_documents(docs, service_context=service_cxt)"
   ]
  },
  {
   "cell_type": "code",
   "execution_count": 8,
   "metadata": {},
   "outputs": [],
   "source": [
    "query_engine = index.as_query_engine()"
   ]
  },
  {
   "cell_type": "code",
   "execution_count": 9,
   "metadata": {},
   "outputs": [],
   "source": [
    "# response = query_engine.query(\"summarize in a sentence the contribution of streaming llm\")"
   ]
  },
  {
   "cell_type": "code",
   "execution_count": 10,
   "metadata": {},
   "outputs": [],
   "source": [
    "# print(response)"
   ]
  },
  {
   "cell_type": "code",
   "execution_count": 11,
   "metadata": {},
   "outputs": [],
   "source": [
    "import pandas as pd"
   ]
  },
  {
   "cell_type": "code",
   "execution_count": 12,
   "metadata": {},
   "outputs": [],
   "source": [
    "df = pd.read_csv(\"qna.csv\")"
   ]
  },
  {
   "cell_type": "code",
   "execution_count": 13,
   "metadata": {},
   "outputs": [
    {
     "data": {
      "text/html": [
       "<div>\n",
       "<style scoped>\n",
       "    .dataframe tbody tr th:only-of-type {\n",
       "        vertical-align: middle;\n",
       "    }\n",
       "\n",
       "    .dataframe tbody tr th {\n",
       "        vertical-align: top;\n",
       "    }\n",
       "\n",
       "    .dataframe thead th {\n",
       "        text-align: right;\n",
       "    }\n",
       "</style>\n",
       "<table border=\"1\" class=\"dataframe\">\n",
       "  <thead>\n",
       "    <tr style=\"text-align: right;\">\n",
       "      <th></th>\n",
       "      <th>Question #</th>\n",
       "      <th>Question Prompt</th>\n",
       "      <th>Answer Choices</th>\n",
       "      <th>Correct Answer Choice</th>\n",
       "    </tr>\n",
       "  </thead>\n",
       "  <tbody>\n",
       "    <tr>\n",
       "      <th>0</th>\n",
       "      <td>1.1</td>\n",
       "      <td>Archaea are the third domain of life and have ...</td>\n",
       "      <td>Choice 1 of 2:prokaryotes\\n\\nChoice 2 of 2:euk...</td>\n",
       "      <td>1- prokaryotes</td>\n",
       "    </tr>\n",
       "    <tr>\n",
       "      <th>1</th>\n",
       "      <td>1.2</td>\n",
       "      <td>Archaea contain histone proteins, a feature co...</td>\n",
       "      <td>Choice 1 of 2:prokaryotes\\n\\nChoice 2 of 2:euk...</td>\n",
       "      <td>2- eukaryotes</td>\n",
       "    </tr>\n",
       "    <tr>\n",
       "      <th>2</th>\n",
       "      <td>1.3</td>\n",
       "      <td>Archaea contain their genome in the cytoplasm,...</td>\n",
       "      <td>Choice 1 of 2:prokaryotes\\n\\nChoice 2 of 2:euk...</td>\n",
       "      <td>1- prokaryotes</td>\n",
       "    </tr>\n",
       "    <tr>\n",
       "      <th>3</th>\n",
       "      <td>1.4</td>\n",
       "      <td>Which of the following statements about telome...</td>\n",
       "      <td>Choice 1 of 4:Telomerase extends the 5’ ends o...</td>\n",
       "      <td>2 - Since telomeres are repeats of the sequenc...</td>\n",
       "    </tr>\n",
       "    <tr>\n",
       "      <th>4</th>\n",
       "      <td>1.5</td>\n",
       "      <td>Which of the following features apply to proka...</td>\n",
       "      <td>Choice 1 of 5:occurs in the cytoplasm\\nChoice ...</td>\n",
       "      <td>1- occurs in the cytoplasm; 4- transcribed mRN...</td>\n",
       "    </tr>\n",
       "  </tbody>\n",
       "</table>\n",
       "</div>"
      ],
      "text/plain": [
       "   Question #                                    Question Prompt  \\\n",
       "0         1.1  Archaea are the third domain of life and have ...   \n",
       "1         1.2  Archaea contain histone proteins, a feature co...   \n",
       "2         1.3  Archaea contain their genome in the cytoplasm,...   \n",
       "3         1.4  Which of the following statements about telome...   \n",
       "4         1.5  Which of the following features apply to proka...   \n",
       "\n",
       "                                      Answer Choices  \\\n",
       "0  Choice 1 of 2:prokaryotes\\n\\nChoice 2 of 2:euk...   \n",
       "1  Choice 1 of 2:prokaryotes\\n\\nChoice 2 of 2:euk...   \n",
       "2  Choice 1 of 2:prokaryotes\\n\\nChoice 2 of 2:euk...   \n",
       "3  Choice 1 of 4:Telomerase extends the 5’ ends o...   \n",
       "4  Choice 1 of 5:occurs in the cytoplasm\\nChoice ...   \n",
       "\n",
       "                               Correct Answer Choice  \n",
       "0                                     1- prokaryotes  \n",
       "1                                      2- eukaryotes  \n",
       "2                                     1- prokaryotes  \n",
       "3  2 - Since telomeres are repeats of the sequenc...  \n",
       "4  1- occurs in the cytoplasm; 4- transcribed mRN...  "
      ]
     },
     "execution_count": 13,
     "metadata": {},
     "output_type": "execute_result"
    }
   ],
   "source": [
    "df.head()"
   ]
  },
  {
   "cell_type": "code",
   "execution_count": 15,
   "metadata": {},
   "outputs": [],
   "source": [
    "from llama_index.evaluation import CorrectnessEvaluator, FaithfulnessEvaluator, RelevancyEvaluator"
   ]
  },
  {
   "cell_type": "code",
   "execution_count": 16,
   "metadata": {},
   "outputs": [],
   "source": [
    "correctness_evaluator = CorrectnessEvaluator(service_context=service_cxt)\n",
    "faithfulness_evaluator = FaithfulnessEvaluator(service_context=service_cxt)\n",
    "relevancy_evaluator = RelevancyEvaluator(service_context=service_cxt)"
   ]
  },
  {
   "cell_type": "code",
   "execution_count": 20,
   "metadata": {},
   "outputs": [
    {
     "ename": "RuntimeError",
     "evalue": "asyncio.run() cannot be called from a running event loop",
     "output_type": "error",
     "traceback": [
      "\u001b[0;31m---------------------------------------------------------------------------\u001b[0m",
      "\u001b[0;31mRuntimeError\u001b[0m                              Traceback (most recent call last)",
      "\u001b[1;32m/Users/ogola/tinyml/project/bioragllm/ps4/llama2.ipynb Cell 17\u001b[0m line \u001b[0;36m8\n\u001b[1;32m      <a href='vscode-notebook-cell:/Users/ogola/tinyml/project/bioragllm/ps4/llama2.ipynb#X25sZmlsZQ%3D%3D?line=5'>6</a>\u001b[0m \u001b[39m# correctness evaluation\u001b[39;00m\n\u001b[1;32m      <a href='vscode-notebook-cell:/Users/ogola/tinyml/project/bioragllm/ps4/llama2.ipynb#X25sZmlsZQ%3D%3D?line=6'>7</a>\u001b[0m correct_answer \u001b[39m=\u001b[39m df\u001b[39m.\u001b[39miloc[\u001b[39m0\u001b[39m, \u001b[39m3\u001b[39m]\n\u001b[0;32m----> <a href='vscode-notebook-cell:/Users/ogola/tinyml/project/bioragllm/ps4/llama2.ipynb#X25sZmlsZQ%3D%3D?line=7'>8</a>\u001b[0m correctness_eval \u001b[39m=\u001b[39m correctness_evaluator\u001b[39m.\u001b[39;49mevaluate(query\u001b[39m=\u001b[39;49mqna, response\u001b[39m=\u001b[39;49mresponse,\n\u001b[1;32m      <a href='vscode-notebook-cell:/Users/ogola/tinyml/project/bioragllm/ps4/llama2.ipynb#X25sZmlsZQ%3D%3D?line=8'>9</a>\u001b[0m                                                     reference\u001b[39m=\u001b[39;49mcorrect_answer)\n\u001b[1;32m     <a href='vscode-notebook-cell:/Users/ogola/tinyml/project/bioragllm/ps4/llama2.ipynb#X25sZmlsZQ%3D%3D?line=9'>10</a>\u001b[0m correctness_score \u001b[39m=\u001b[39m correctness_eval\u001b[39m.\u001b[39mscore\n\u001b[1;32m     <a href='vscode-notebook-cell:/Users/ogola/tinyml/project/bioragllm/ps4/llama2.ipynb#X25sZmlsZQ%3D%3D?line=10'>11</a>\u001b[0m \u001b[39mprint\u001b[39m(\u001b[39mf\u001b[39m\u001b[39m\"\u001b[39m\u001b[39mCorrectness score: \u001b[39m\u001b[39m{\u001b[39;00mcorrectness_score\u001b[39m}\u001b[39;00m\u001b[39m\"\u001b[39m)\n",
      "File \u001b[0;32m~/tinyml/project/bioragllm/.venv/lib/python3.11/site-packages/llama_index/evaluation/base.py:56\u001b[0m, in \u001b[0;36mBaseEvaluator.evaluate\u001b[0;34m(self, query, response, contexts, **kwargs)\u001b[0m\n\u001b[1;32m     43\u001b[0m \u001b[39mdef\u001b[39;00m \u001b[39mevaluate\u001b[39m(\n\u001b[1;32m     44\u001b[0m     \u001b[39mself\u001b[39m,\n\u001b[1;32m     45\u001b[0m     query: Optional[\u001b[39mstr\u001b[39m] \u001b[39m=\u001b[39m \u001b[39mNone\u001b[39;00m,\n\u001b[0;32m   (...)\u001b[0m\n\u001b[1;32m     48\u001b[0m     \u001b[39m*\u001b[39m\u001b[39m*\u001b[39mkwargs: Any,\n\u001b[1;32m     49\u001b[0m ) \u001b[39m-\u001b[39m\u001b[39m>\u001b[39m EvaluationResult:\n\u001b[1;32m     50\u001b[0m \u001b[39m    \u001b[39m\u001b[39m\"\"\"Run evaluation with query string, retrieved contexts,\u001b[39;00m\n\u001b[1;32m     51\u001b[0m \u001b[39m    and generated response string.\u001b[39;00m\n\u001b[1;32m     52\u001b[0m \n\u001b[1;32m     53\u001b[0m \u001b[39m    Subclasses can override this method to provide custom evaluation logic and\u001b[39;00m\n\u001b[1;32m     54\u001b[0m \u001b[39m    take in additional arguments.\u001b[39;00m\n\u001b[1;32m     55\u001b[0m \u001b[39m    \"\"\"\u001b[39;00m\n\u001b[0;32m---> 56\u001b[0m     \u001b[39mreturn\u001b[39;00m asyncio\u001b[39m.\u001b[39;49mrun(\n\u001b[1;32m     57\u001b[0m         \u001b[39mself\u001b[39;49m\u001b[39m.\u001b[39;49maevaluate(\n\u001b[1;32m     58\u001b[0m             query\u001b[39m=\u001b[39;49mquery,\n\u001b[1;32m     59\u001b[0m             response\u001b[39m=\u001b[39;49mresponse,\n\u001b[1;32m     60\u001b[0m             contexts\u001b[39m=\u001b[39;49mcontexts,\n\u001b[1;32m     61\u001b[0m             \u001b[39m*\u001b[39;49m\u001b[39m*\u001b[39;49mkwargs,\n\u001b[1;32m     62\u001b[0m         )\n\u001b[1;32m     63\u001b[0m     )\n",
      "File \u001b[0;32m/opt/homebrew/Cellar/python@3.11/3.11.6_1/Frameworks/Python.framework/Versions/3.11/lib/python3.11/asyncio/runners.py:186\u001b[0m, in \u001b[0;36mrun\u001b[0;34m(main, debug)\u001b[0m\n\u001b[1;32m    161\u001b[0m \u001b[39m\u001b[39m\u001b[39m\"\"\"Execute the coroutine and return the result.\u001b[39;00m\n\u001b[1;32m    162\u001b[0m \n\u001b[1;32m    163\u001b[0m \u001b[39mThis function runs the passed coroutine, taking care of\u001b[39;00m\n\u001b[0;32m   (...)\u001b[0m\n\u001b[1;32m    182\u001b[0m \u001b[39m    asyncio.run(main())\u001b[39;00m\n\u001b[1;32m    183\u001b[0m \u001b[39m\"\"\"\u001b[39;00m\n\u001b[1;32m    184\u001b[0m \u001b[39mif\u001b[39;00m events\u001b[39m.\u001b[39m_get_running_loop() \u001b[39mis\u001b[39;00m \u001b[39mnot\u001b[39;00m \u001b[39mNone\u001b[39;00m:\n\u001b[1;32m    185\u001b[0m     \u001b[39m# fail fast with short traceback\u001b[39;00m\n\u001b[0;32m--> 186\u001b[0m     \u001b[39mraise\u001b[39;00m \u001b[39mRuntimeError\u001b[39;00m(\n\u001b[1;32m    187\u001b[0m         \u001b[39m\"\u001b[39m\u001b[39masyncio.run() cannot be called from a running event loop\u001b[39m\u001b[39m\"\u001b[39m)\n\u001b[1;32m    189\u001b[0m \u001b[39mwith\u001b[39;00m Runner(debug\u001b[39m=\u001b[39mdebug) \u001b[39mas\u001b[39;00m runner:\n\u001b[1;32m    190\u001b[0m     \u001b[39mreturn\u001b[39;00m runner\u001b[39m.\u001b[39mrun(main)\n",
      "\u001b[0;31mRuntimeError\u001b[0m: asyncio.run() cannot be called from a running event loop"
     ]
    }
   ],
   "source": [
    "question = df.iloc[0, 1]\n",
    "choices = df.iloc[0, 2]\n",
    "qna = f\"Give the correct answer choice number to the following question\\n{question}\\n {choices}\"\n",
    "response = query_engine.query(qna)\n",
    "\n",
    "# correctness evaluation\n",
    "correct_answer = df.iloc[0, 3]\n",
    "correctness_eval = correctness_evaluator.evaluate(query=qna, response=response,\n",
    "                                                    reference=correct_answer)\n",
    "correctness_score = correctness_eval.score\n",
    "print(f\"Correctness score: {correctness_score}\")"
   ]
  },
  {
   "cell_type": "code",
   "execution_count": 19,
   "metadata": {},
   "outputs": [
    {
     "ename": "RuntimeError",
     "evalue": "asyncio.run() cannot be called from a running event loop",
     "output_type": "error",
     "traceback": [
      "\u001b[0;31m---------------------------------------------------------------------------\u001b[0m",
      "\u001b[0;31mRuntimeError\u001b[0m                              Traceback (most recent call last)",
      "\u001b[1;32m/Users/ogola/tinyml/project/bioragllm/ps4/llama2.ipynb Cell 17\u001b[0m line \u001b[0;36m1\n\u001b[1;32m      <a href='vscode-notebook-cell:/Users/ogola/tinyml/project/bioragllm/ps4/llama2.ipynb#X22sZmlsZQ%3D%3D?line=7'>8</a>\u001b[0m \u001b[39m# correctness evaluation\u001b[39;00m\n\u001b[1;32m      <a href='vscode-notebook-cell:/Users/ogola/tinyml/project/bioragllm/ps4/llama2.ipynb#X22sZmlsZQ%3D%3D?line=8'>9</a>\u001b[0m correct_answer \u001b[39m=\u001b[39m df\u001b[39m.\u001b[39miloc[i, \u001b[39m3\u001b[39m]\n\u001b[0;32m---> <a href='vscode-notebook-cell:/Users/ogola/tinyml/project/bioragllm/ps4/llama2.ipynb#X22sZmlsZQ%3D%3D?line=9'>10</a>\u001b[0m correctness_eval \u001b[39m=\u001b[39m \u001b[39mawait\u001b[39;00m correctness_evaluator\u001b[39m.\u001b[39;49mevaluate(query\u001b[39m=\u001b[39;49mqna, response\u001b[39m=\u001b[39;49mresponse,\n\u001b[1;32m     <a href='vscode-notebook-cell:/Users/ogola/tinyml/project/bioragllm/ps4/llama2.ipynb#X22sZmlsZQ%3D%3D?line=10'>11</a>\u001b[0m                                                   reference\u001b[39m=\u001b[39;49mcorrect_answer)\n\u001b[1;32m     <a href='vscode-notebook-cell:/Users/ogola/tinyml/project/bioragllm/ps4/llama2.ipynb#X22sZmlsZQ%3D%3D?line=11'>12</a>\u001b[0m correctness_score \u001b[39m=\u001b[39m correctness_eval\u001b[39m.\u001b[39mscore\n\u001b[1;32m     <a href='vscode-notebook-cell:/Users/ogola/tinyml/project/bioragllm/ps4/llama2.ipynb#X22sZmlsZQ%3D%3D?line=12'>13</a>\u001b[0m \u001b[39m# faithfulness evaluation\u001b[39;00m\n",
      "File \u001b[0;32m~/tinyml/project/bioragllm/.venv/lib/python3.11/site-packages/llama_index/evaluation/base.py:56\u001b[0m, in \u001b[0;36mBaseEvaluator.evaluate\u001b[0;34m(self, query, response, contexts, **kwargs)\u001b[0m\n\u001b[1;32m     43\u001b[0m \u001b[39mdef\u001b[39;00m \u001b[39mevaluate\u001b[39m(\n\u001b[1;32m     44\u001b[0m     \u001b[39mself\u001b[39m,\n\u001b[1;32m     45\u001b[0m     query: Optional[\u001b[39mstr\u001b[39m] \u001b[39m=\u001b[39m \u001b[39mNone\u001b[39;00m,\n\u001b[0;32m   (...)\u001b[0m\n\u001b[1;32m     48\u001b[0m     \u001b[39m*\u001b[39m\u001b[39m*\u001b[39mkwargs: Any,\n\u001b[1;32m     49\u001b[0m ) \u001b[39m-\u001b[39m\u001b[39m>\u001b[39m EvaluationResult:\n\u001b[1;32m     50\u001b[0m \u001b[39m    \u001b[39m\u001b[39m\"\"\"Run evaluation with query string, retrieved contexts,\u001b[39;00m\n\u001b[1;32m     51\u001b[0m \u001b[39m    and generated response string.\u001b[39;00m\n\u001b[1;32m     52\u001b[0m \n\u001b[1;32m     53\u001b[0m \u001b[39m    Subclasses can override this method to provide custom evaluation logic and\u001b[39;00m\n\u001b[1;32m     54\u001b[0m \u001b[39m    take in additional arguments.\u001b[39;00m\n\u001b[1;32m     55\u001b[0m \u001b[39m    \"\"\"\u001b[39;00m\n\u001b[0;32m---> 56\u001b[0m     \u001b[39mreturn\u001b[39;00m asyncio\u001b[39m.\u001b[39;49mrun(\n\u001b[1;32m     57\u001b[0m         \u001b[39mself\u001b[39;49m\u001b[39m.\u001b[39;49maevaluate(\n\u001b[1;32m     58\u001b[0m             query\u001b[39m=\u001b[39;49mquery,\n\u001b[1;32m     59\u001b[0m             response\u001b[39m=\u001b[39;49mresponse,\n\u001b[1;32m     60\u001b[0m             contexts\u001b[39m=\u001b[39;49mcontexts,\n\u001b[1;32m     61\u001b[0m             \u001b[39m*\u001b[39;49m\u001b[39m*\u001b[39;49mkwargs,\n\u001b[1;32m     62\u001b[0m         )\n\u001b[1;32m     63\u001b[0m     )\n",
      "File \u001b[0;32m/opt/homebrew/Cellar/python@3.11/3.11.6_1/Frameworks/Python.framework/Versions/3.11/lib/python3.11/asyncio/runners.py:186\u001b[0m, in \u001b[0;36mrun\u001b[0;34m(main, debug)\u001b[0m\n\u001b[1;32m    161\u001b[0m \u001b[39m\u001b[39m\u001b[39m\"\"\"Execute the coroutine and return the result.\u001b[39;00m\n\u001b[1;32m    162\u001b[0m \n\u001b[1;32m    163\u001b[0m \u001b[39mThis function runs the passed coroutine, taking care of\u001b[39;00m\n\u001b[0;32m   (...)\u001b[0m\n\u001b[1;32m    182\u001b[0m \u001b[39m    asyncio.run(main())\u001b[39;00m\n\u001b[1;32m    183\u001b[0m \u001b[39m\"\"\"\u001b[39;00m\n\u001b[1;32m    184\u001b[0m \u001b[39mif\u001b[39;00m events\u001b[39m.\u001b[39m_get_running_loop() \u001b[39mis\u001b[39;00m \u001b[39mnot\u001b[39;00m \u001b[39mNone\u001b[39;00m:\n\u001b[1;32m    185\u001b[0m     \u001b[39m# fail fast with short traceback\u001b[39;00m\n\u001b[0;32m--> 186\u001b[0m     \u001b[39mraise\u001b[39;00m \u001b[39mRuntimeError\u001b[39;00m(\n\u001b[1;32m    187\u001b[0m         \u001b[39m\"\u001b[39m\u001b[39masyncio.run() cannot be called from a running event loop\u001b[39m\u001b[39m\"\u001b[39m)\n\u001b[1;32m    189\u001b[0m \u001b[39mwith\u001b[39;00m Runner(debug\u001b[39m=\u001b[39mdebug) \u001b[39mas\u001b[39;00m runner:\n\u001b[1;32m    190\u001b[0m     \u001b[39mreturn\u001b[39;00m runner\u001b[39m.\u001b[39mrun(main)\n",
      "\u001b[0;31mRuntimeError\u001b[0m: asyncio.run() cannot be called from a running event loop"
     ]
    }
   ],
   "source": [
    "data = []\n",
    "for i in range(len(df)):\n",
    "    question = df.iloc[i, 1]\n",
    "    choices = df.iloc[i, 2]\n",
    "    qna = f\"Give the correct answer choice number to the following question\\n{question}\\n {choices}\"\n",
    "    response = query_engine.query(qna)\n",
    "\n",
    "    # correctness evaluation\n",
    "    correct_answer = df.iloc[i, 3]\n",
    "    correctness_eval = await correctness_evaluator.evaluate(query=qna, response=response,\n",
    "                                                      reference=correct_answer)\n",
    "    correctness_score = correctness_eval.score\n",
    "    # faithfulness evaluation\n",
    "    faithfulness_eval = await faithfulness_evaluator.evaluate_response(query=qna, response=response)\n",
    "    faithfulness_flag = faithfulness_eval.passing\n",
    "\n",
    "    # relevancy evaluation\n",
    "    relevancy_eval = await relevancy_evaluator.evaluate_response(query=qna, response=response)\n",
    "    relevancy_flag = relevancy_eval.passing\n",
    "\n",
    "    data.append({\"question\": question, \"choices\": choices, \"qna\": qna, \"response\": response,\n",
    "                          \"correctness_score\": correctness_score, \"faithfulness_flag\": faithfulness_flag,\n",
    "                          \"relevancy_flag\": relevancy_flag}, index=[0])\n",
    "df = pd.DataFrame(data)\n",
    "df.to_csv(\"results.csv\", mode='a', header=False)"
   ]
  }
 ],
 "metadata": {
  "kernelspec": {
   "display_name": ".venv",
   "language": "python",
   "name": "python3"
  },
  "language_info": {
   "codemirror_mode": {
    "name": "ipython",
    "version": 3
   },
   "file_extension": ".py",
   "mimetype": "text/x-python",
   "name": "python",
   "nbconvert_exporter": "python",
   "pygments_lexer": "ipython3",
   "version": "3.11.6"
  }
 },
 "nbformat": 4,
 "nbformat_minor": 2
}
